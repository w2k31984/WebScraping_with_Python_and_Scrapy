{
  "nbformat": 4,
  "nbformat_minor": 0,
  "metadata": {
    "colab": {
      "provenance": [],
      "authorship_tag": "ABX9TyM9yjDWoRKDeaABFKlYFrAn",
      "include_colab_link": true
    },
    "kernelspec": {
      "name": "python3",
      "display_name": "Python 3"
    },
    "language_info": {
      "name": "python"
    }
  },
  "cells": [
    {
      "cell_type": "markdown",
      "metadata": {
        "id": "view-in-github",
        "colab_type": "text"
      },
      "source": [
        "<a href=\"https://colab.research.google.com/github/w2k31984/WebScraping_with_Python_and_Scrapy/blob/master/Web_Scraping_Python_Scrapy_%26_Google_Colab.ipynb\" target=\"_parent\"><img src=\"https://colab.research.google.com/assets/colab-badge.svg\" alt=\"Open In Colab\"/></a>"
      ]
    },
    {
      "cell_type": "markdown",
      "source": [
        "# **Extraer información de la web con Scrapy y Python | Web Scraping**"
      ],
      "metadata": {
        "id": "o4ZFA3K9JUkU"
      }
    },
    {
      "cell_type": "markdown",
      "source": [
        "Instalamos las librerias y paquetes para poder realizar el webscraping"
      ],
      "metadata": {
        "id": "R5NpkLRvLNvK"
      }
    },
    {
      "cell_type": "code",
      "source": [
        "#Instalamos nuestra libreria Scrapy\n",
        "!pip install scrapy\n",
        "print('Libreria Scrapy Instalada')"
      ],
      "metadata": {
        "colab": {
          "base_uri": "https://localhost:8080/"
        },
        "id": "-Ef4jRBuQobF",
        "outputId": "2c2bd8d2-675e-41cc-e0fb-7c17c8929489"
      },
      "execution_count": 4,
      "outputs": [
        {
          "output_type": "stream",
          "name": "stdout",
          "text": [
            "Collecting scrapy\n",
            "  Downloading Scrapy-2.11.2-py2.py3-none-any.whl.metadata (5.3 kB)\n",
            "Collecting Twisted>=18.9.0 (from scrapy)\n",
            "  Downloading twisted-24.7.0-py3-none-any.whl.metadata (18 kB)\n",
            "Requirement already satisfied: cryptography>=36.0.0 in /usr/local/lib/python3.10/dist-packages (from scrapy) (43.0.0)\n",
            "Collecting cssselect>=0.9.1 (from scrapy)\n",
            "  Downloading cssselect-1.2.0-py2.py3-none-any.whl.metadata (2.2 kB)\n",
            "Collecting itemloaders>=1.0.1 (from scrapy)\n",
            "  Downloading itemloaders-1.3.1-py3-none-any.whl.metadata (3.9 kB)\n",
            "Collecting parsel>=1.5.0 (from scrapy)\n",
            "  Downloading parsel-1.9.1-py2.py3-none-any.whl.metadata (11 kB)\n",
            "Requirement already satisfied: pyOpenSSL>=21.0.0 in /usr/local/lib/python3.10/dist-packages (from scrapy) (24.2.1)\n",
            "Collecting queuelib>=1.4.2 (from scrapy)\n",
            "  Downloading queuelib-1.7.0-py2.py3-none-any.whl.metadata (5.7 kB)\n",
            "Collecting service-identity>=18.1.0 (from scrapy)\n",
            "  Downloading service_identity-24.1.0-py3-none-any.whl.metadata (4.8 kB)\n",
            "Collecting w3lib>=1.17.0 (from scrapy)\n",
            "  Downloading w3lib-2.2.1-py3-none-any.whl.metadata (2.1 kB)\n",
            "Collecting zope.interface>=5.1.0 (from scrapy)\n",
            "  Downloading zope.interface-7.0.3-cp310-cp310-manylinux_2_5_x86_64.manylinux1_x86_64.manylinux_2_17_x86_64.manylinux2014_x86_64.whl.metadata (43 kB)\n",
            "\u001b[2K     \u001b[90m━━━━━━━━━━━━━━━━━━━━━━━━━━━━━━━━━━━━━━━━\u001b[0m \u001b[32m43.6/43.6 kB\u001b[0m \u001b[31m2.3 MB/s\u001b[0m eta \u001b[36m0:00:00\u001b[0m\n",
            "\u001b[?25hCollecting protego>=0.1.15 (from scrapy)\n",
            "  Downloading Protego-0.3.1-py2.py3-none-any.whl.metadata (5.9 kB)\n",
            "Collecting itemadapter>=0.1.0 (from scrapy)\n",
            "  Downloading itemadapter-0.9.0-py3-none-any.whl.metadata (17 kB)\n",
            "Requirement already satisfied: setuptools in /usr/local/lib/python3.10/dist-packages (from scrapy) (71.0.4)\n",
            "Requirement already satisfied: packaging in /usr/local/lib/python3.10/dist-packages (from scrapy) (24.1)\n",
            "Collecting tldextract (from scrapy)\n",
            "  Downloading tldextract-5.1.2-py3-none-any.whl.metadata (11 kB)\n",
            "Requirement already satisfied: lxml>=4.4.1 in /usr/local/lib/python3.10/dist-packages (from scrapy) (4.9.4)\n",
            "Requirement already satisfied: defusedxml>=0.7.1 in /usr/local/lib/python3.10/dist-packages (from scrapy) (0.7.1)\n",
            "Collecting PyDispatcher>=2.0.5 (from scrapy)\n",
            "  Downloading PyDispatcher-2.0.7-py3-none-any.whl.metadata (2.4 kB)\n",
            "Requirement already satisfied: cffi>=1.12 in /usr/local/lib/python3.10/dist-packages (from cryptography>=36.0.0->scrapy) (1.17.0)\n",
            "Collecting jmespath>=0.9.5 (from itemloaders>=1.0.1->scrapy)\n",
            "  Downloading jmespath-1.0.1-py3-none-any.whl.metadata (7.6 kB)\n",
            "Requirement already satisfied: attrs>=19.1.0 in /usr/local/lib/python3.10/dist-packages (from service-identity>=18.1.0->scrapy) (24.2.0)\n",
            "Requirement already satisfied: pyasn1 in /usr/local/lib/python3.10/dist-packages (from service-identity>=18.1.0->scrapy) (0.6.0)\n",
            "Requirement already satisfied: pyasn1-modules in /usr/local/lib/python3.10/dist-packages (from service-identity>=18.1.0->scrapy) (0.4.0)\n",
            "Collecting automat>=0.8.0 (from Twisted>=18.9.0->scrapy)\n",
            "  Downloading Automat-24.8.1-py3-none-any.whl.metadata (8.4 kB)\n",
            "Collecting constantly>=15.1 (from Twisted>=18.9.0->scrapy)\n",
            "  Downloading constantly-23.10.4-py3-none-any.whl.metadata (1.8 kB)\n",
            "Collecting hyperlink>=17.1.1 (from Twisted>=18.9.0->scrapy)\n",
            "  Downloading hyperlink-21.0.0-py2.py3-none-any.whl.metadata (1.5 kB)\n",
            "Collecting incremental>=24.7.0 (from Twisted>=18.9.0->scrapy)\n",
            "  Downloading incremental-24.7.2-py3-none-any.whl.metadata (8.1 kB)\n",
            "Requirement already satisfied: typing-extensions>=4.2.0 in /usr/local/lib/python3.10/dist-packages (from Twisted>=18.9.0->scrapy) (4.12.2)\n",
            "Requirement already satisfied: idna in /usr/local/lib/python3.10/dist-packages (from tldextract->scrapy) (3.8)\n",
            "Requirement already satisfied: requests>=2.1.0 in /usr/local/lib/python3.10/dist-packages (from tldextract->scrapy) (2.32.3)\n",
            "Collecting requests-file>=1.4 (from tldextract->scrapy)\n",
            "  Downloading requests_file-2.1.0-py2.py3-none-any.whl.metadata (1.7 kB)\n",
            "Requirement already satisfied: filelock>=3.0.8 in /usr/local/lib/python3.10/dist-packages (from tldextract->scrapy) (3.15.4)\n",
            "Requirement already satisfied: pycparser in /usr/local/lib/python3.10/dist-packages (from cffi>=1.12->cryptography>=36.0.0->scrapy) (2.22)\n",
            "Requirement already satisfied: tomli in /usr/local/lib/python3.10/dist-packages (from incremental>=24.7.0->Twisted>=18.9.0->scrapy) (2.0.1)\n",
            "Requirement already satisfied: charset-normalizer<4,>=2 in /usr/local/lib/python3.10/dist-packages (from requests>=2.1.0->tldextract->scrapy) (3.3.2)\n",
            "Requirement already satisfied: urllib3<3,>=1.21.1 in /usr/local/lib/python3.10/dist-packages (from requests>=2.1.0->tldextract->scrapy) (2.0.7)\n",
            "Requirement already satisfied: certifi>=2017.4.17 in /usr/local/lib/python3.10/dist-packages (from requests>=2.1.0->tldextract->scrapy) (2024.7.4)\n",
            "Downloading Scrapy-2.11.2-py2.py3-none-any.whl (290 kB)\n",
            "\u001b[2K   \u001b[90m━━━━━━━━━━━━━━━━━━━━━━━━━━━━━━━━━━━━━━━━\u001b[0m \u001b[32m290.1/290.1 kB\u001b[0m \u001b[31m8.5 MB/s\u001b[0m eta \u001b[36m0:00:00\u001b[0m\n",
            "\u001b[?25hDownloading cssselect-1.2.0-py2.py3-none-any.whl (18 kB)\n",
            "Downloading itemadapter-0.9.0-py3-none-any.whl (11 kB)\n",
            "Downloading itemloaders-1.3.1-py3-none-any.whl (12 kB)\n",
            "Downloading parsel-1.9.1-py2.py3-none-any.whl (17 kB)\n",
            "Downloading Protego-0.3.1-py2.py3-none-any.whl (8.5 kB)\n",
            "Downloading PyDispatcher-2.0.7-py3-none-any.whl (12 kB)\n",
            "Downloading queuelib-1.7.0-py2.py3-none-any.whl (13 kB)\n",
            "Downloading service_identity-24.1.0-py3-none-any.whl (12 kB)\n",
            "Downloading twisted-24.7.0-py3-none-any.whl (3.2 MB)\n",
            "\u001b[2K   \u001b[90m━━━━━━━━━━━━━━━━━━━━━━━━━━━━━━━━━━━━━━━━\u001b[0m \u001b[32m3.2/3.2 MB\u001b[0m \u001b[31m47.9 MB/s\u001b[0m eta \u001b[36m0:00:00\u001b[0m\n",
            "\u001b[?25hDownloading w3lib-2.2.1-py3-none-any.whl (21 kB)\n",
            "Downloading zope.interface-7.0.3-cp310-cp310-manylinux_2_5_x86_64.manylinux1_x86_64.manylinux_2_17_x86_64.manylinux2014_x86_64.whl (254 kB)\n",
            "\u001b[2K   \u001b[90m━━━━━━━━━━━━━━━━━━━━━━━━━━━━━━━━━━━━━━━━\u001b[0m \u001b[32m254.1/254.1 kB\u001b[0m \u001b[31m15.8 MB/s\u001b[0m eta \u001b[36m0:00:00\u001b[0m\n",
            "\u001b[?25hDownloading tldextract-5.1.2-py3-none-any.whl (97 kB)\n",
            "\u001b[2K   \u001b[90m━━━━━━━━━━━━━━━━━━━━━━━━━━━━━━━━━━━━━━━━\u001b[0m \u001b[32m97.6/97.6 kB\u001b[0m \u001b[31m6.5 MB/s\u001b[0m eta \u001b[36m0:00:00\u001b[0m\n",
            "\u001b[?25hDownloading Automat-24.8.1-py3-none-any.whl (42 kB)\n",
            "\u001b[2K   \u001b[90m━━━━━━━━━━━━━━━━━━━━━━━━━━━━━━━━━━━━━━━━\u001b[0m \u001b[32m42.6/42.6 kB\u001b[0m \u001b[31m2.6 MB/s\u001b[0m eta \u001b[36m0:00:00\u001b[0m\n",
            "\u001b[?25hDownloading constantly-23.10.4-py3-none-any.whl (13 kB)\n",
            "Downloading hyperlink-21.0.0-py2.py3-none-any.whl (74 kB)\n",
            "\u001b[2K   \u001b[90m━━━━━━━━━━━━━━━━━━━━━━━━━━━━━━━━━━━━━━━━\u001b[0m \u001b[32m74.6/74.6 kB\u001b[0m \u001b[31m4.4 MB/s\u001b[0m eta \u001b[36m0:00:00\u001b[0m\n",
            "\u001b[?25hDownloading incremental-24.7.2-py3-none-any.whl (20 kB)\n",
            "Downloading jmespath-1.0.1-py3-none-any.whl (20 kB)\n",
            "Downloading requests_file-2.1.0-py2.py3-none-any.whl (4.2 kB)\n",
            "Installing collected packages: PyDispatcher, zope.interface, w3lib, queuelib, protego, jmespath, itemadapter, incremental, hyperlink, cssselect, constantly, automat, Twisted, requests-file, parsel, tldextract, service-identity, itemloaders, scrapy\n",
            "Successfully installed PyDispatcher-2.0.7 Twisted-24.7.0 automat-24.8.1 constantly-23.10.4 cssselect-1.2.0 hyperlink-21.0.0 incremental-24.7.2 itemadapter-0.9.0 itemloaders-1.3.1 jmespath-1.0.1 parsel-1.9.1 protego-0.3.1 queuelib-1.7.0 requests-file-2.1.0 scrapy-2.11.2 service-identity-24.1.0 tldextract-5.1.2 w3lib-2.2.1 zope.interface-7.0.3\n",
            "Libreria Scrapy Instalada\n"
          ]
        }
      ]
    },
    {
      "cell_type": "code",
      "source": [
        "import scrapy\n"
      ],
      "metadata": {
        "id": "grx1m_1jQ0k7"
      },
      "execution_count": 12,
      "outputs": []
    },
    {
      "cell_type": "code",
      "source": [
        "#Creamos nuestro programa\n",
        "class MySpider(scrapy.Spider):\n",
        "    name = 'myspider'\n",
        "    start_urls = ['https://books.toscrape.com/']\n",
        "    #Creando el contenedor con el parse\n",
        "    def parse(self, response):\n",
        "        prod_links= response.xpath('//article[@class=\"product_pod\"]//h3/a/@href').getall()\n",
        "        for link in prod_links:\n",
        "            yield{'link':link}"
      ],
      "metadata": {
        "id": "L49kVt6bRHgm"
      },
      "execution_count": 13,
      "outputs": []
    },
    {
      "cell_type": "code",
      "source": [
        "#Corremos nuestro programa\n",
        "from scrapy.crawler import CrawlerProcess\n",
        "process = CrawlerProcess(settings={'FEEDS':{'item.csv':{'format':'csv'}}})\n",
        "process.crawl(MySpider)\n",
        "process.start()"
      ],
      "metadata": {
        "colab": {
          "base_uri": "https://localhost:8080/"
        },
        "id": "mo94M1rbZ6RE",
        "outputId": "ffdd4f0f-1f53-4584-ec00-b99d5ff732ec"
      },
      "execution_count": 14,
      "outputs": [
        {
          "output_type": "stream",
          "name": "stderr",
          "text": [
            "INFO:scrapy.utils.log:Scrapy 2.11.2 started (bot: scrapybot)\n",
            "2024-08-29 00:02:29 [scrapy.utils.log] INFO: Scrapy 2.11.2 started (bot: scrapybot)\n",
            "INFO:scrapy.utils.log:Versions: lxml 4.9.4.0, libxml2 2.10.3, cssselect 1.2.0, parsel 1.9.1, w3lib 2.2.1, Twisted 24.7.0, Python 3.10.12 (main, Jul 29 2024, 16:56:48) [GCC 11.4.0], pyOpenSSL 24.2.1 (OpenSSL 3.3.1 4 Jun 2024), cryptography 43.0.0, Platform Linux-6.1.85+-x86_64-with-glibc2.35\n",
            "2024-08-29 00:02:29 [scrapy.utils.log] INFO: Versions: lxml 4.9.4.0, libxml2 2.10.3, cssselect 1.2.0, parsel 1.9.1, w3lib 2.2.1, Twisted 24.7.0, Python 3.10.12 (main, Jul 29 2024, 16:56:48) [GCC 11.4.0], pyOpenSSL 24.2.1 (OpenSSL 3.3.1 4 Jun 2024), cryptography 43.0.0, Platform Linux-6.1.85+-x86_64-with-glibc2.35\n",
            "INFO:scrapy.addons:Enabled addons:\n",
            "[]\n",
            "2024-08-29 00:02:29 [scrapy.addons] INFO: Enabled addons:\n",
            "[]\n",
            "/usr/local/lib/python3.10/dist-packages/scrapy/utils/request.py:254: ScrapyDeprecationWarning: '2.6' is a deprecated value for the 'REQUEST_FINGERPRINTER_IMPLEMENTATION' setting.\n",
            "\n",
            "It is also the default value. In other words, it is normal to get this warning if you have not defined a value for the 'REQUEST_FINGERPRINTER_IMPLEMENTATION' setting. This is so for backward compatibility reasons, but it will change in a future version of Scrapy.\n",
            "\n",
            "See the documentation of the 'REQUEST_FINGERPRINTER_IMPLEMENTATION' setting for information on how to handle this deprecation.\n",
            "  return cls(crawler)\n",
            "DEBUG:scrapy.utils.log:Using reactor: twisted.internet.epollreactor.EPollReactor\n",
            "2024-08-29 00:02:29 [scrapy.utils.log] DEBUG: Using reactor: twisted.internet.epollreactor.EPollReactor\n",
            "INFO:scrapy.extensions.telnet:Telnet Password: e5dd7f8cc3ecef6d\n",
            "2024-08-29 00:02:29 [scrapy.extensions.telnet] INFO: Telnet Password: e5dd7f8cc3ecef6d\n",
            "INFO:scrapy.middleware:Enabled extensions:\n",
            "['scrapy.extensions.corestats.CoreStats',\n",
            " 'scrapy.extensions.telnet.TelnetConsole',\n",
            " 'scrapy.extensions.memusage.MemoryUsage',\n",
            " 'scrapy.extensions.feedexport.FeedExporter',\n",
            " 'scrapy.extensions.logstats.LogStats']\n",
            "2024-08-29 00:02:30 [scrapy.middleware] INFO: Enabled extensions:\n",
            "['scrapy.extensions.corestats.CoreStats',\n",
            " 'scrapy.extensions.telnet.TelnetConsole',\n",
            " 'scrapy.extensions.memusage.MemoryUsage',\n",
            " 'scrapy.extensions.feedexport.FeedExporter',\n",
            " 'scrapy.extensions.logstats.LogStats']\n",
            "INFO:scrapy.crawler:Overridden settings:\n",
            "{}\n",
            "2024-08-29 00:02:30 [scrapy.crawler] INFO: Overridden settings:\n",
            "{}\n",
            "INFO:scrapy.middleware:Enabled downloader middlewares:\n",
            "['scrapy.downloadermiddlewares.offsite.OffsiteMiddleware',\n",
            " 'scrapy.downloadermiddlewares.httpauth.HttpAuthMiddleware',\n",
            " 'scrapy.downloadermiddlewares.downloadtimeout.DownloadTimeoutMiddleware',\n",
            " 'scrapy.downloadermiddlewares.defaultheaders.DefaultHeadersMiddleware',\n",
            " 'scrapy.downloadermiddlewares.useragent.UserAgentMiddleware',\n",
            " 'scrapy.downloadermiddlewares.retry.RetryMiddleware',\n",
            " 'scrapy.downloadermiddlewares.redirect.MetaRefreshMiddleware',\n",
            " 'scrapy.downloadermiddlewares.httpcompression.HttpCompressionMiddleware',\n",
            " 'scrapy.downloadermiddlewares.redirect.RedirectMiddleware',\n",
            " 'scrapy.downloadermiddlewares.cookies.CookiesMiddleware',\n",
            " 'scrapy.downloadermiddlewares.httpproxy.HttpProxyMiddleware',\n",
            " 'scrapy.downloadermiddlewares.stats.DownloaderStats']\n",
            "2024-08-29 00:02:30 [scrapy.middleware] INFO: Enabled downloader middlewares:\n",
            "['scrapy.downloadermiddlewares.offsite.OffsiteMiddleware',\n",
            " 'scrapy.downloadermiddlewares.httpauth.HttpAuthMiddleware',\n",
            " 'scrapy.downloadermiddlewares.downloadtimeout.DownloadTimeoutMiddleware',\n",
            " 'scrapy.downloadermiddlewares.defaultheaders.DefaultHeadersMiddleware',\n",
            " 'scrapy.downloadermiddlewares.useragent.UserAgentMiddleware',\n",
            " 'scrapy.downloadermiddlewares.retry.RetryMiddleware',\n",
            " 'scrapy.downloadermiddlewares.redirect.MetaRefreshMiddleware',\n",
            " 'scrapy.downloadermiddlewares.httpcompression.HttpCompressionMiddleware',\n",
            " 'scrapy.downloadermiddlewares.redirect.RedirectMiddleware',\n",
            " 'scrapy.downloadermiddlewares.cookies.CookiesMiddleware',\n",
            " 'scrapy.downloadermiddlewares.httpproxy.HttpProxyMiddleware',\n",
            " 'scrapy.downloadermiddlewares.stats.DownloaderStats']\n",
            "INFO:scrapy.middleware:Enabled spider middlewares:\n",
            "['scrapy.spidermiddlewares.httperror.HttpErrorMiddleware',\n",
            " 'scrapy.spidermiddlewares.referer.RefererMiddleware',\n",
            " 'scrapy.spidermiddlewares.urllength.UrlLengthMiddleware',\n",
            " 'scrapy.spidermiddlewares.depth.DepthMiddleware']\n",
            "2024-08-29 00:02:30 [scrapy.middleware] INFO: Enabled spider middlewares:\n",
            "['scrapy.spidermiddlewares.httperror.HttpErrorMiddleware',\n",
            " 'scrapy.spidermiddlewares.referer.RefererMiddleware',\n",
            " 'scrapy.spidermiddlewares.urllength.UrlLengthMiddleware',\n",
            " 'scrapy.spidermiddlewares.depth.DepthMiddleware']\n",
            "INFO:scrapy.middleware:Enabled item pipelines:\n",
            "[]\n",
            "2024-08-29 00:02:30 [scrapy.middleware] INFO: Enabled item pipelines:\n",
            "[]\n",
            "INFO:scrapy.core.engine:Spider opened\n",
            "2024-08-29 00:02:30 [scrapy.core.engine] INFO: Spider opened\n",
            "INFO:scrapy.extensions.logstats:Crawled 0 pages (at 0 pages/min), scraped 0 items (at 0 items/min)\n",
            "2024-08-29 00:02:30 [scrapy.extensions.logstats] INFO: Crawled 0 pages (at 0 pages/min), scraped 0 items (at 0 items/min)\n",
            "INFO:scrapy.extensions.telnet:Telnet console listening on 127.0.0.1:6023\n",
            "2024-08-29 00:02:30 [scrapy.extensions.telnet] INFO: Telnet console listening on 127.0.0.1:6023\n",
            "DEBUG:scrapy.core.engine:Crawled (200) <GET https://books.toscrape.com/> (referer: None)\n",
            "2024-08-29 00:02:30 [scrapy.core.engine] DEBUG: Crawled (200) <GET https://books.toscrape.com/> (referer: None)\n",
            "DEBUG:scrapy.core.scraper:Scraped from <200 https://books.toscrape.com/>\n",
            "{'link': 'catalogue/a-light-in-the-attic_1000/index.html'}\n",
            "2024-08-29 00:02:30 [scrapy.core.scraper] DEBUG: Scraped from <200 https://books.toscrape.com/>\n",
            "{'link': 'catalogue/a-light-in-the-attic_1000/index.html'}\n",
            "DEBUG:scrapy.core.scraper:Scraped from <200 https://books.toscrape.com/>\n",
            "{'link': 'catalogue/tipping-the-velvet_999/index.html'}\n",
            "2024-08-29 00:02:30 [scrapy.core.scraper] DEBUG: Scraped from <200 https://books.toscrape.com/>\n",
            "{'link': 'catalogue/tipping-the-velvet_999/index.html'}\n",
            "DEBUG:scrapy.core.scraper:Scraped from <200 https://books.toscrape.com/>\n",
            "{'link': 'catalogue/soumission_998/index.html'}\n",
            "2024-08-29 00:02:30 [scrapy.core.scraper] DEBUG: Scraped from <200 https://books.toscrape.com/>\n",
            "{'link': 'catalogue/soumission_998/index.html'}\n",
            "DEBUG:scrapy.core.scraper:Scraped from <200 https://books.toscrape.com/>\n",
            "{'link': 'catalogue/sharp-objects_997/index.html'}\n",
            "2024-08-29 00:02:30 [scrapy.core.scraper] DEBUG: Scraped from <200 https://books.toscrape.com/>\n",
            "{'link': 'catalogue/sharp-objects_997/index.html'}\n",
            "DEBUG:scrapy.core.scraper:Scraped from <200 https://books.toscrape.com/>\n",
            "{'link': 'catalogue/sapiens-a-brief-history-of-humankind_996/index.html'}\n",
            "2024-08-29 00:02:30 [scrapy.core.scraper] DEBUG: Scraped from <200 https://books.toscrape.com/>\n",
            "{'link': 'catalogue/sapiens-a-brief-history-of-humankind_996/index.html'}\n",
            "DEBUG:scrapy.core.scraper:Scraped from <200 https://books.toscrape.com/>\n",
            "{'link': 'catalogue/the-requiem-red_995/index.html'}\n",
            "2024-08-29 00:02:30 [scrapy.core.scraper] DEBUG: Scraped from <200 https://books.toscrape.com/>\n",
            "{'link': 'catalogue/the-requiem-red_995/index.html'}\n",
            "DEBUG:scrapy.core.scraper:Scraped from <200 https://books.toscrape.com/>\n",
            "{'link': 'catalogue/the-dirty-little-secrets-of-getting-your-dream-job_994/index.html'}\n",
            "2024-08-29 00:02:30 [scrapy.core.scraper] DEBUG: Scraped from <200 https://books.toscrape.com/>\n",
            "{'link': 'catalogue/the-dirty-little-secrets-of-getting-your-dream-job_994/index.html'}\n",
            "DEBUG:scrapy.core.scraper:Scraped from <200 https://books.toscrape.com/>\n",
            "{'link': 'catalogue/the-coming-woman-a-novel-based-on-the-life-of-the-infamous-feminist-victoria-woodhull_993/index.html'}\n",
            "2024-08-29 00:02:30 [scrapy.core.scraper] DEBUG: Scraped from <200 https://books.toscrape.com/>\n",
            "{'link': 'catalogue/the-coming-woman-a-novel-based-on-the-life-of-the-infamous-feminist-victoria-woodhull_993/index.html'}\n",
            "DEBUG:scrapy.core.scraper:Scraped from <200 https://books.toscrape.com/>\n",
            "{'link': 'catalogue/the-boys-in-the-boat-nine-americans-and-their-epic-quest-for-gold-at-the-1936-berlin-olympics_992/index.html'}\n",
            "2024-08-29 00:02:30 [scrapy.core.scraper] DEBUG: Scraped from <200 https://books.toscrape.com/>\n",
            "{'link': 'catalogue/the-boys-in-the-boat-nine-americans-and-their-epic-quest-for-gold-at-the-1936-berlin-olympics_992/index.html'}\n",
            "DEBUG:scrapy.core.scraper:Scraped from <200 https://books.toscrape.com/>\n",
            "{'link': 'catalogue/the-black-maria_991/index.html'}\n",
            "2024-08-29 00:02:30 [scrapy.core.scraper] DEBUG: Scraped from <200 https://books.toscrape.com/>\n",
            "{'link': 'catalogue/the-black-maria_991/index.html'}\n",
            "DEBUG:scrapy.core.scraper:Scraped from <200 https://books.toscrape.com/>\n",
            "{'link': 'catalogue/starving-hearts-triangular-trade-trilogy-1_990/index.html'}\n",
            "2024-08-29 00:02:30 [scrapy.core.scraper] DEBUG: Scraped from <200 https://books.toscrape.com/>\n",
            "{'link': 'catalogue/starving-hearts-triangular-trade-trilogy-1_990/index.html'}\n",
            "DEBUG:scrapy.core.scraper:Scraped from <200 https://books.toscrape.com/>\n",
            "{'link': 'catalogue/shakespeares-sonnets_989/index.html'}\n",
            "2024-08-29 00:02:30 [scrapy.core.scraper] DEBUG: Scraped from <200 https://books.toscrape.com/>\n",
            "{'link': 'catalogue/shakespeares-sonnets_989/index.html'}\n",
            "DEBUG:scrapy.core.scraper:Scraped from <200 https://books.toscrape.com/>\n",
            "{'link': 'catalogue/set-me-free_988/index.html'}\n",
            "2024-08-29 00:02:30 [scrapy.core.scraper] DEBUG: Scraped from <200 https://books.toscrape.com/>\n",
            "{'link': 'catalogue/set-me-free_988/index.html'}\n",
            "DEBUG:scrapy.core.scraper:Scraped from <200 https://books.toscrape.com/>\n",
            "{'link': 'catalogue/scott-pilgrims-precious-little-life-scott-pilgrim-1_987/index.html'}\n",
            "2024-08-29 00:02:30 [scrapy.core.scraper] DEBUG: Scraped from <200 https://books.toscrape.com/>\n",
            "{'link': 'catalogue/scott-pilgrims-precious-little-life-scott-pilgrim-1_987/index.html'}\n",
            "DEBUG:scrapy.core.scraper:Scraped from <200 https://books.toscrape.com/>\n",
            "{'link': 'catalogue/rip-it-up-and-start-again_986/index.html'}\n",
            "2024-08-29 00:02:30 [scrapy.core.scraper] DEBUG: Scraped from <200 https://books.toscrape.com/>\n",
            "{'link': 'catalogue/rip-it-up-and-start-again_986/index.html'}\n",
            "DEBUG:scrapy.core.scraper:Scraped from <200 https://books.toscrape.com/>\n",
            "{'link': 'catalogue/our-band-could-be-your-life-scenes-from-the-american-indie-underground-1981-1991_985/index.html'}\n",
            "2024-08-29 00:02:30 [scrapy.core.scraper] DEBUG: Scraped from <200 https://books.toscrape.com/>\n",
            "{'link': 'catalogue/our-band-could-be-your-life-scenes-from-the-american-indie-underground-1981-1991_985/index.html'}\n",
            "DEBUG:scrapy.core.scraper:Scraped from <200 https://books.toscrape.com/>\n",
            "{'link': 'catalogue/olio_984/index.html'}\n",
            "2024-08-29 00:02:30 [scrapy.core.scraper] DEBUG: Scraped from <200 https://books.toscrape.com/>\n",
            "{'link': 'catalogue/olio_984/index.html'}\n",
            "DEBUG:scrapy.core.scraper:Scraped from <200 https://books.toscrape.com/>\n",
            "{'link': 'catalogue/mesaerion-the-best-science-fiction-stories-1800-1849_983/index.html'}\n",
            "2024-08-29 00:02:30 [scrapy.core.scraper] DEBUG: Scraped from <200 https://books.toscrape.com/>\n",
            "{'link': 'catalogue/mesaerion-the-best-science-fiction-stories-1800-1849_983/index.html'}\n",
            "DEBUG:scrapy.core.scraper:Scraped from <200 https://books.toscrape.com/>\n",
            "{'link': 'catalogue/libertarianism-for-beginners_982/index.html'}\n",
            "2024-08-29 00:02:30 [scrapy.core.scraper] DEBUG: Scraped from <200 https://books.toscrape.com/>\n",
            "{'link': 'catalogue/libertarianism-for-beginners_982/index.html'}\n",
            "DEBUG:scrapy.core.scraper:Scraped from <200 https://books.toscrape.com/>\n",
            "{'link': 'catalogue/its-only-the-himalayas_981/index.html'}\n",
            "2024-08-29 00:02:30 [scrapy.core.scraper] DEBUG: Scraped from <200 https://books.toscrape.com/>\n",
            "{'link': 'catalogue/its-only-the-himalayas_981/index.html'}\n",
            "INFO:scrapy.core.engine:Closing spider (finished)\n",
            "2024-08-29 00:02:30 [scrapy.core.engine] INFO: Closing spider (finished)\n",
            "INFO:scrapy.extensions.feedexport:Stored csv feed (20 items) in: item.csv\n",
            "2024-08-29 00:02:30 [scrapy.extensions.feedexport] INFO: Stored csv feed (20 items) in: item.csv\n",
            "INFO:scrapy.statscollectors:Dumping Scrapy stats:\n",
            "{'downloader/request_bytes': 219,\n",
            " 'downloader/request_count': 1,\n",
            " 'downloader/request_method_count/GET': 1,\n",
            " 'downloader/response_bytes': 51555,\n",
            " 'downloader/response_count': 1,\n",
            " 'downloader/response_status_count/200': 1,\n",
            " 'elapsed_time_seconds': 0.286803,\n",
            " 'feedexport/success_count/FileFeedStorage': 1,\n",
            " 'finish_reason': 'finished',\n",
            " 'finish_time': datetime.datetime(2024, 8, 29, 0, 2, 30, 435150, tzinfo=datetime.timezone.utc),\n",
            " 'item_scraped_count': 20,\n",
            " 'log_count/DEBUG': 22,\n",
            " 'log_count/INFO': 11,\n",
            " 'memusage/max': 243171328,\n",
            " 'memusage/startup': 243171328,\n",
            " 'response_received_count': 1,\n",
            " 'scheduler/dequeued': 1,\n",
            " 'scheduler/dequeued/memory': 1,\n",
            " 'scheduler/enqueued': 1,\n",
            " 'scheduler/enqueued/memory': 1,\n",
            " 'start_time': datetime.datetime(2024, 8, 29, 0, 2, 30, 148347, tzinfo=datetime.timezone.utc)}\n",
            "2024-08-29 00:02:30 [scrapy.statscollectors] INFO: Dumping Scrapy stats:\n",
            "{'downloader/request_bytes': 219,\n",
            " 'downloader/request_count': 1,\n",
            " 'downloader/request_method_count/GET': 1,\n",
            " 'downloader/response_bytes': 51555,\n",
            " 'downloader/response_count': 1,\n",
            " 'downloader/response_status_count/200': 1,\n",
            " 'elapsed_time_seconds': 0.286803,\n",
            " 'feedexport/success_count/FileFeedStorage': 1,\n",
            " 'finish_reason': 'finished',\n",
            " 'finish_time': datetime.datetime(2024, 8, 29, 0, 2, 30, 435150, tzinfo=datetime.timezone.utc),\n",
            " 'item_scraped_count': 20,\n",
            " 'log_count/DEBUG': 22,\n",
            " 'log_count/INFO': 11,\n",
            " 'memusage/max': 243171328,\n",
            " 'memusage/startup': 243171328,\n",
            " 'response_received_count': 1,\n",
            " 'scheduler/dequeued': 1,\n",
            " 'scheduler/dequeued/memory': 1,\n",
            " 'scheduler/enqueued': 1,\n",
            " 'scheduler/enqueued/memory': 1,\n",
            " 'start_time': datetime.datetime(2024, 8, 29, 0, 2, 30, 148347, tzinfo=datetime.timezone.utc)}\n",
            "INFO:scrapy.core.engine:Spider closed (finished)\n",
            "2024-08-29 00:02:30 [scrapy.core.engine] INFO: Spider closed (finished)\n"
          ]
        }
      ]
    },
    {
      "cell_type": "code",
      "source": [
        "#Ver los archivos creados\n",
        "!ls"
      ],
      "metadata": {
        "colab": {
          "base_uri": "https://localhost:8080/"
        },
        "id": "UYDj43F8dCTu",
        "outputId": "4fad3641-ef70-4f9d-e2ec-b061f933890c"
      },
      "execution_count": 15,
      "outputs": [
        {
          "output_type": "stream",
          "name": "stdout",
          "text": [
            "item.csv  requirements.txt  sample_data\n"
          ]
        }
      ]
    },
    {
      "cell_type": "code",
      "source": [
        "#Abriendo el archivo creado item.csv\n",
        "with open('item.csv', 'r') as f:\n",
        "    print(f.read())\n",
        ""
      ],
      "metadata": {
        "colab": {
          "base_uri": "https://localhost:8080/"
        },
        "id": "GCxi8lQwdN7O",
        "outputId": "6eb8943b-38cc-4f55-d537-e04e4246cd9f"
      },
      "execution_count": 16,
      "outputs": [
        {
          "output_type": "stream",
          "name": "stdout",
          "text": [
            "link\n",
            "catalogue/a-light-in-the-attic_1000/index.html\n",
            "catalogue/tipping-the-velvet_999/index.html\n",
            "catalogue/soumission_998/index.html\n",
            "catalogue/sharp-objects_997/index.html\n",
            "catalogue/sapiens-a-brief-history-of-humankind_996/index.html\n",
            "catalogue/the-requiem-red_995/index.html\n",
            "catalogue/the-dirty-little-secrets-of-getting-your-dream-job_994/index.html\n",
            "catalogue/the-coming-woman-a-novel-based-on-the-life-of-the-infamous-feminist-victoria-woodhull_993/index.html\n",
            "catalogue/the-boys-in-the-boat-nine-americans-and-their-epic-quest-for-gold-at-the-1936-berlin-olympics_992/index.html\n",
            "catalogue/the-black-maria_991/index.html\n",
            "catalogue/starving-hearts-triangular-trade-trilogy-1_990/index.html\n",
            "catalogue/shakespeares-sonnets_989/index.html\n",
            "catalogue/set-me-free_988/index.html\n",
            "catalogue/scott-pilgrims-precious-little-life-scott-pilgrim-1_987/index.html\n",
            "catalogue/rip-it-up-and-start-again_986/index.html\n",
            "catalogue/our-band-could-be-your-life-scenes-from-the-american-indie-underground-1981-1991_985/index.html\n",
            "catalogue/olio_984/index.html\n",
            "catalogue/mesaerion-the-best-science-fiction-stories-1800-1849_983/index.html\n",
            "catalogue/libertarianism-for-beginners_982/index.html\n",
            "catalogue/its-only-the-himalayas_981/index.html\n",
            "\n"
          ]
        }
      ]
    }
  ]
}